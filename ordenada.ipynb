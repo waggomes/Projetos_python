{
  "nbformat": 4,
  "nbformat_minor": 0,
  "metadata": {
    "colab": {
      "name": "ordenada",
      "provenance": [],
      "authorship_tag": "ABX9TyOEN0Ot0fyyY5gaAVKqe8uf",
      "include_colab_link": true
    },
    "kernelspec": {
      "name": "python3",
      "display_name": "Python 3"
    }
  },
  "cells": [
    {
      "cell_type": "markdown",
      "metadata": {
        "id": "view-in-github",
        "colab_type": "text"
      },
      "source": [
        "<a href=\"https://colab.research.google.com/github/waggomes/Projetos_python/blob/master/ordenada.ipynb\" target=\"_parent\"><img src=\"https://colab.research.google.com/assets/colab-badge.svg\" alt=\"Open In Colab\"/></a>"
      ]
    },
    {
      "cell_type": "code",
      "metadata": {
        "id": "XOmukTkHN3PQ",
        "colab_type": "code",
        "colab": {}
      },
      "source": [
        "def ordenada(lista):\n",
        "  #Recebe uma lista como parâmetro e retorna True se a lista estiver ordenada.\n",
        "\n",
        "  item_teste = lista[0]\n",
        "  i = 1\n",
        "\n",
        "  for i in range(len(lista)):\n",
        "    if lista[i] >= item_teste:\n",
        "      item_teste = lista[i]\n",
        "    else:\n",
        "      return False\n",
        "  \n",
        "  return True\n",
        "\n",
        "\n"
      ],
      "execution_count": 3,
      "outputs": []
    }
  ]
}