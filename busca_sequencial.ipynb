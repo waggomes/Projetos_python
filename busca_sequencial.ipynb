{
  "nbformat": 4,
  "nbformat_minor": 0,
  "metadata": {
    "colab": {
      "name": "busca_sequencial",
      "provenance": [],
      "authorship_tag": "ABX9TyNw/z8nOGZMWsYyvUkp+jmK",
      "include_colab_link": true
    },
    "kernelspec": {
      "name": "python3",
      "display_name": "Python 3"
    }
  },
  "cells": [
    {
      "cell_type": "markdown",
      "metadata": {
        "id": "view-in-github",
        "colab_type": "text"
      },
      "source": [
        "<a href=\"https://colab.research.google.com/github/waggomes/Projetos_python/blob/master/busca_sequencial.ipynb\" target=\"_parent\"><img src=\"https://colab.research.google.com/assets/colab-badge.svg\" alt=\"Open In Colab\"/></a>"
      ]
    },
    {
      "cell_type": "code",
      "metadata": {
        "id": "In4FkFedQikS",
        "colab_type": "code",
        "colab": {}
      },
      "source": [
        "def busca(lista,elemento):\n",
        "  #Verifica se o elemento esta na lista (ambos passados como parãmetros)\n",
        "\n",
        "  for i in range(len(lista)):\n",
        "    if lista[i] == elemento:\n",
        "      return i\n",
        "\n",
        "  return False"
      ],
      "execution_count": 5,
      "outputs": []
    }
  ]
}