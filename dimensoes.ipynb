{
  "nbformat": 4,
  "nbformat_minor": 0,
  "metadata": {
    "colab": {
      "name": "dimensoes.ipynb",
      "provenance": [],
      "authorship_tag": "ABX9TyPYZQHyqKNWhIg5srTcyODn",
      "include_colab_link": true
    },
    "kernelspec": {
      "name": "python3",
      "display_name": "Python 3"
    }
  },
  "cells": [
    {
      "cell_type": "markdown",
      "metadata": {
        "id": "view-in-github",
        "colab_type": "text"
      },
      "source": [
        "<a href=\"https://colab.research.google.com/github/waggomes/Projetos_python/blob/master/dimensoes.ipynb\" target=\"_parent\"><img src=\"https://colab.research.google.com/assets/colab-badge.svg\" alt=\"Open In Colab\"/></a>"
      ]
    },
    {
      "cell_type": "code",
      "metadata": {
        "id": "AoG_v9qg78pW",
        "colab_type": "code",
        "colab": {}
      },
      "source": [
        "def dimensoes(matriz):\n",
        "  linhas = len(matriz)\n",
        "  colunas = len(matriz[0])\n",
        "\n",
        "  print(linhas,\"X\",colunas)\n",
        "\n",
        "  return"
      ],
      "execution_count": 0,
      "outputs": []
    }
  ]
}