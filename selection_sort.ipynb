{
  "nbformat": 4,
  "nbformat_minor": 0,
  "metadata": {
    "colab": {
      "name": "selection_sort",
      "provenance": [],
      "authorship_tag": "ABX9TyNsGae3shRI/kO5D1PsUIFf",
      "include_colab_link": true
    },
    "kernelspec": {
      "name": "python3",
      "display_name": "Python 3"
    }
  },
  "cells": [
    {
      "cell_type": "markdown",
      "metadata": {
        "id": "view-in-github",
        "colab_type": "text"
      },
      "source": [
        "<a href=\"https://colab.research.google.com/github/waggomes/Projetos_python/blob/master/selection_sort.ipynb\" target=\"_parent\"><img src=\"https://colab.research.google.com/assets/colab-badge.svg\" alt=\"Open In Colab\"/></a>"
      ]
    },
    {
      "cell_type": "code",
      "metadata": {
        "id": "xylmXyjWJu2B",
        "colab_type": "code",
        "colab": {}
      },
      "source": [
        "def ordena(lista):\n",
        "  #Recebe uma lista e ordena aplicando o algoritmo selection sort\n",
        "\n",
        "  fim = len(lista)\n",
        "\n",
        "  for i in range(fim - 1):\n",
        "    posicao_do_minimo = i\n",
        "\n",
        "    for j in range(i + 1, fim):\n",
        "      if lista[j] < lista[posicao_do_minimo]:\n",
        "        posicao_do_minimo = j\n",
        "\n",
        "    lista[i], lista[posicao_do_minimo] = lista[posicao_do_minimo], lista[i]\n",
        "  \n",
        "  return lista"
      ],
      "execution_count": 19,
      "outputs": []
    }
  ]
}